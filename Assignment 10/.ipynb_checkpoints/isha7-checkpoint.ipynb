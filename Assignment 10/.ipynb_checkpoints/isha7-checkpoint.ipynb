{
 "cells": [
  {
   "cell_type": "code",
   "execution_count": 21,
   "id": "8b7ac32b-4ae5-4417-ab69-7c4eb960c0b2",
   "metadata": {
    "tags": []
   },
   "outputs": [],
   "source": [
    "from nltk.tokenize import word_tokenize\n",
    "from nltk import pos_tag\n",
    "from nltk.stem import PorterStemmer\n",
    "from nltk.corpus import stopwords \n",
    "from nltk.stem import WordNetLemmatizer\n",
    "from sklearn.feature_extraction.text import TfidfVectorizer\n"
   ]
  },
  {
   "cell_type": "code",
   "execution_count": 22,
   "id": "f0d0a09a-3628-46b8-8dd5-9a357a850933",
   "metadata": {
    "tags": []
   },
   "outputs": [],
   "source": [
    "covid = open('covid.txt').read()"
   ]
  },
  {
   "cell_type": "code",
   "execution_count": 23,
   "id": "6ced8bd4-9178-4941-be09-322d49260d2d",
   "metadata": {
    "tags": []
   },
   "outputs": [
    {
     "data": {
      "text/plain": [
       "'Coronavirus disease (COVID-19) is an infectious disease caused by the SARS-CoV-2 virus.\\n\\nMost people infected with the virus will experience mild to moderate respiratory illness and recover without requiring special treatment. However, some will become seriously ill and require medical attention. Older people and those with underlying medical conditions like cardiovascular disease, diabetes, chronic respiratory disease, or cancer are more likely to develop serious illness. Anyone can get sick with COVID-19 and become seriously ill or die at any age. \\n\\nThe best way to prevent and slow down transmission is to be well informed about the disease and how the virus spreads. Protect yourself and others from infection by staying at least 1 metre apart from others, wearing a properly fitted mask, and washing your hands or using an alcohol-based rub frequently. Get vaccinated when it’s your turn and follow local guidance.\\n\\nThe virus can spread from an infected person’s mouth or nose in small liquid particles when they cough, sneeze, speak, sing or breathe. These particles range from larger respiratory droplets to smaller aerosols. It is important to practice respiratory etiquette, for example by coughing into a flexed elbow, and to stay home and self-isolate until you recover if you feel unwell.\\n'"
      ]
     },
     "execution_count": 23,
     "metadata": {},
     "output_type": "execute_result"
    }
   ],
   "source": [
    "covid"
   ]
  },
  {
   "cell_type": "code",
   "execution_count": 24,
   "id": "98a0c320-761c-4da4-8ddf-b543c4502c62",
   "metadata": {
    "tags": []
   },
   "outputs": [
    {
     "name": "stdout",
     "output_type": "stream",
     "text": [
      "['Coronavirus', 'disease', '(', 'COVID-19', ')', 'is', 'an', 'infectious', 'disease', 'caused', 'by', 'the', 'SARS-CoV-2', 'virus', '.', 'Most', 'people', 'infected', 'with', 'the', 'virus', 'will', 'experience', 'mild', 'to', 'moderate', 'respiratory', 'illness', 'and', 'recover', 'without', 'requiring', 'special', 'treatment', '.', 'However', ',', 'some', 'will', 'become', 'seriously', 'ill', 'and', 'require', 'medical', 'attention', '.', 'Older', 'people', 'and', 'those', 'with', 'underlying', 'medical', 'conditions', 'like', 'cardiovascular', 'disease', ',', 'diabetes', ',', 'chronic', 'respiratory', 'disease', ',', 'or', 'cancer', 'are', 'more', 'likely', 'to', 'develop', 'serious', 'illness', '.', 'Anyone', 'can', 'get', 'sick', 'with', 'COVID-19', 'and', 'become', 'seriously', 'ill', 'or', 'die', 'at', 'any', 'age', '.', 'The', 'best', 'way', 'to', 'prevent', 'and', 'slow', 'down', 'transmission', 'is', 'to', 'be', 'well', 'informed', 'about', 'the', 'disease', 'and', 'how', 'the', 'virus', 'spreads', '.', 'Protect', 'yourself', 'and', 'others', 'from', 'infection', 'by', 'staying', 'at', 'least', '1', 'metre', 'apart', 'from', 'others', ',', 'wearing', 'a', 'properly', 'fitted', 'mask', ',', 'and', 'washing', 'your', 'hands', 'or', 'using', 'an', 'alcohol-based', 'rub', 'frequently', '.', 'Get', 'vaccinated', 'when', 'it', '’', 's', 'your', 'turn', 'and', 'follow', 'local', 'guidance', '.', 'The', 'virus', 'can', 'spread', 'from', 'an', 'infected', 'person', '’', 's', 'mouth', 'or', 'nose', 'in', 'small', 'liquid', 'particles', 'when', 'they', 'cough', ',', 'sneeze', ',', 'speak', ',', 'sing', 'or', 'breathe', '.', 'These', 'particles', 'range', 'from', 'larger', 'respiratory', 'droplets', 'to', 'smaller', 'aerosols', '.', 'It', 'is', 'important', 'to', 'practice', 'respiratory', 'etiquette', ',', 'for', 'example', 'by', 'coughing', 'into', 'a', 'flexed', 'elbow', ',', 'and', 'to', 'stay', 'home', 'and', 'self-isolate', 'until', 'you', 'recover', 'if', 'you', 'feel', 'unwell', '.']\n"
     ]
    }
   ],
   "source": [
    "tokens = word_tokenize(covid)\n",
    "print(tokens)"
   ]
  },
  {
   "cell_type": "code",
   "execution_count": 25,
   "id": "616fc7f7-63dc-42cf-80ff-ce8fd4d6e388",
   "metadata": {
    "tags": []
   },
   "outputs": [],
   "source": [
    "postags = pos_tag(tokens)"
   ]
  },
  {
   "cell_type": "code",
   "execution_count": 26,
   "id": "567ff31c-0f8d-4186-afd8-e0d817eb1551",
   "metadata": {
    "tags": []
   },
   "outputs": [
    {
     "name": "stdout",
     "output_type": "stream",
     "text": [
      "[('Coronavirus', 'NNP'), ('disease', 'NN'), ('(', '('), ('COVID-19', 'NNP'), (')', ')'), ('is', 'VBZ'), ('an', 'DT'), ('infectious', 'JJ'), ('disease', 'NN'), ('caused', 'VBN'), ('by', 'IN'), ('the', 'DT'), ('SARS-CoV-2', 'NNP'), ('virus', 'NN'), ('.', '.'), ('Most', 'JJS'), ('people', 'NNS'), ('infected', 'VBN'), ('with', 'IN'), ('the', 'DT'), ('virus', 'NN'), ('will', 'MD'), ('experience', 'VB'), ('mild', 'NN'), ('to', 'TO'), ('moderate', 'VB'), ('respiratory', 'NN'), ('illness', 'NN'), ('and', 'CC'), ('recover', 'VB'), ('without', 'IN'), ('requiring', 'VBG'), ('special', 'JJ'), ('treatment', 'NN'), ('.', '.'), ('However', 'RB'), (',', ','), ('some', 'DT'), ('will', 'MD'), ('become', 'VB'), ('seriously', 'RB'), ('ill', 'JJ'), ('and', 'CC'), ('require', 'VB'), ('medical', 'JJ'), ('attention', 'NN'), ('.', '.'), ('Older', 'JJR'), ('people', 'NNS'), ('and', 'CC'), ('those', 'DT'), ('with', 'IN'), ('underlying', 'JJ'), ('medical', 'JJ'), ('conditions', 'NNS'), ('like', 'IN'), ('cardiovascular', 'JJ'), ('disease', 'NN'), (',', ','), ('diabetes', 'VBZ'), (',', ','), ('chronic', 'JJ'), ('respiratory', 'NN'), ('disease', 'NN'), (',', ','), ('or', 'CC'), ('cancer', 'NN'), ('are', 'VBP'), ('more', 'RBR'), ('likely', 'JJ'), ('to', 'TO'), ('develop', 'VB'), ('serious', 'JJ'), ('illness', 'NN'), ('.', '.'), ('Anyone', 'NN'), ('can', 'MD'), ('get', 'VB'), ('sick', 'JJ'), ('with', 'IN'), ('COVID-19', 'NNP'), ('and', 'CC'), ('become', 'VB'), ('seriously', 'RB'), ('ill', 'JJ'), ('or', 'CC'), ('die', 'VB'), ('at', 'IN'), ('any', 'DT'), ('age', 'NN'), ('.', '.'), ('The', 'DT'), ('best', 'JJS'), ('way', 'NN'), ('to', 'TO'), ('prevent', 'VB'), ('and', 'CC'), ('slow', 'VB'), ('down', 'RP'), ('transmission', 'NN'), ('is', 'VBZ'), ('to', 'TO'), ('be', 'VB'), ('well', 'RB'), ('informed', 'VBN'), ('about', 'IN'), ('the', 'DT'), ('disease', 'NN'), ('and', 'CC'), ('how', 'WRB'), ('the', 'DT'), ('virus', 'NN'), ('spreads', 'NNS'), ('.', '.'), ('Protect', 'VB'), ('yourself', 'PRP'), ('and', 'CC'), ('others', 'NNS'), ('from', 'IN'), ('infection', 'NN'), ('by', 'IN'), ('staying', 'VBG'), ('at', 'IN'), ('least', 'JJS'), ('1', 'CD'), ('metre', 'JJ'), ('apart', 'RB'), ('from', 'IN'), ('others', 'NNS'), (',', ','), ('wearing', 'VBG'), ('a', 'DT'), ('properly', 'RB'), ('fitted', 'VBN'), ('mask', 'NN'), (',', ','), ('and', 'CC'), ('washing', 'VBG'), ('your', 'PRP$'), ('hands', 'NNS'), ('or', 'CC'), ('using', 'VBG'), ('an', 'DT'), ('alcohol-based', 'JJ'), ('rub', 'NN'), ('frequently', 'RB'), ('.', '.'), ('Get', 'NNP'), ('vaccinated', 'VBD'), ('when', 'WRB'), ('it', 'PRP'), ('’', 'VBD'), ('s', 'VB'), ('your', 'PRP$'), ('turn', 'NN'), ('and', 'CC'), ('follow', 'VB'), ('local', 'JJ'), ('guidance', 'NN'), ('.', '.'), ('The', 'DT'), ('virus', 'NN'), ('can', 'MD'), ('spread', 'VB'), ('from', 'IN'), ('an', 'DT'), ('infected', 'JJ'), ('person', 'NN'), ('’', 'NNP'), ('s', 'VBZ'), ('mouth', 'NN'), ('or', 'CC'), ('nose', 'NN'), ('in', 'IN'), ('small', 'JJ'), ('liquid', 'NN'), ('particles', 'NNS'), ('when', 'WRB'), ('they', 'PRP'), ('cough', 'VBP'), (',', ','), ('sneeze', 'NN'), (',', ','), ('speak', 'NN'), (',', ','), ('sing', 'VBG'), ('or', 'CC'), ('breathe', 'NN'), ('.', '.'), ('These', 'DT'), ('particles', 'NNS'), ('range', 'VBP'), ('from', 'IN'), ('larger', 'JJR'), ('respiratory', 'NN'), ('droplets', 'NNS'), ('to', 'TO'), ('smaller', 'JJR'), ('aerosols', 'NNS'), ('.', '.'), ('It', 'PRP'), ('is', 'VBZ'), ('important', 'JJ'), ('to', 'TO'), ('practice', 'NN'), ('respiratory', 'NN'), ('etiquette', 'NN'), (',', ','), ('for', 'IN'), ('example', 'NN'), ('by', 'IN'), ('coughing', 'VBG'), ('into', 'IN'), ('a', 'DT'), ('flexed', 'JJ'), ('elbow', 'NN'), (',', ','), ('and', 'CC'), ('to', 'TO'), ('stay', 'VB'), ('home', 'NN'), ('and', 'CC'), ('self-isolate', 'NN'), ('until', 'IN'), ('you', 'PRP'), ('recover', 'VBP'), ('if', 'IN'), ('you', 'PRP'), ('feel', 'VBP'), ('unwell', 'RB'), ('.', '.')]\n"
     ]
    }
   ],
   "source": [
    "print(postags)"
   ]
  },
  {
   "cell_type": "code",
   "execution_count": 27,
   "id": "f2c56aaf-9f7f-4d44-afe7-50026e466d95",
   "metadata": {
    "tags": []
   },
   "outputs": [
    {
     "name": "stdout",
     "output_type": "stream",
     "text": [
      "{'is', 'o', \"mightn't\", 'if', \"aren't\", 'yourself', 'both', 'than', 'she', 'again', \"mustn't\", 'her', 'themselves', 'each', 'these', \"weren't\", \"she's\", 'after', 'not', 'don', 'by', 'am', 'under', 'yours', 'me', 'its', 'own', 'more', 'aren', 'them', 'the', 'for', 'yourselves', 'below', 'ourselves', 'which', \"didn't\", 'wouldn', 'no', 'of', 'during', \"haven't\", \"that'll\", 'be', 'doing', 'a', 'my', 'being', \"isn't\", 'now', 'been', 'can', 'shan', 'myself', 'didn', 'you', 'hers', 'all', 'your', 'once', 'why', 'shouldn', 'hasn', 'to', 's', 'needn', 'doesn', \"hadn't\", 'd', 'where', \"should've\", 'there', 'between', \"wasn't\", 'but', 'ours', 'mightn', \"wouldn't\", 'against', 'same', 'ain', 'herself', 'wasn', 'has', 'until', \"you've\", 'up', 'just', 'theirs', \"needn't\", 'at', 'and', 'who', 'was', 'off', 'here', 'out', 'above', 'are', 'when', 'itself', 'hadn', \"you'd\", 'on', 'he', 'having', 'so', 'did', 're', \"you'll\", \"don't\", 'over', 'other', \"shan't\", 'they', 'do', \"shouldn't\", 'while', 'will', 'then', 't', \"won't\", 'their', 'about', 'him', 'such', 'i', 'does', 'from', 'mustn', 'any', 'an', 'only', \"hasn't\", 'it', 'into', 'that', 'had', 'this', 'have', 'before', 'because', 'few', 'm', 'haven', 'his', 'whom', 'in', 'further', 'y', \"you're\", 'll', 'we', 'too', 've', 'isn', 'were', 'our', 'should', 'himself', 'as', 'how', 'ma', 'what', 'nor', 'won', \"it's\", 'some', 'or', 'down', 'through', 'most', 'couldn', \"doesn't\", 'very', 'those', \"couldn't\", 'with', 'weren'}\n"
     ]
    }
   ],
   "source": [
    "stop_words = set(stopwords.words('english'))\n",
    "print(stop_words)"
   ]
  },
  {
   "cell_type": "code",
   "execution_count": 28,
   "id": "72ab30cd-f2dc-4728-91b5-0c3aed260446",
   "metadata": {
    "tags": []
   },
   "outputs": [
    {
     "name": "stdout",
     "output_type": "stream",
     "text": [
      "['Coronavirus', 'disease', '(', 'COVID-19', ')', 'infectious', 'disease', 'caused', 'SARS-CoV-2', 'virus', '.', 'Most', 'people', 'infected', 'virus', 'experience', 'mild', 'moderate', 'respiratory', 'illness', 'recover', 'without', 'requiring', 'special', 'treatment', '.', 'However', ',', 'become', 'seriously', 'ill', 'require', 'medical', 'attention', '.', 'Older', 'people', 'underlying', 'medical', 'conditions', 'like', 'cardiovascular', 'disease', ',', 'diabetes', ',', 'chronic', 'respiratory', 'disease', ',', 'cancer', 'likely', 'develop', 'serious', 'illness', '.', 'Anyone', 'get', 'sick', 'COVID-19', 'become', 'seriously', 'ill', 'die', 'age', '.', 'The', 'best', 'way', 'prevent', 'slow', 'transmission', 'well', 'informed', 'disease', 'virus', 'spreads', '.', 'Protect', 'others', 'infection', 'staying', 'least', '1', 'metre', 'apart', 'others', ',', 'wearing', 'properly', 'fitted', 'mask', ',', 'washing', 'hands', 'using', 'alcohol-based', 'rub', 'frequently', '.', 'Get', 'vaccinated', '’', 'turn', 'follow', 'local', 'guidance', '.', 'The', 'virus', 'spread', 'infected', 'person', '’', 'mouth', 'nose', 'small', 'liquid', 'particles', 'cough', ',', 'sneeze', ',', 'speak', ',', 'sing', 'breathe', '.', 'These', 'particles', 'range', 'larger', 'respiratory', 'droplets', 'smaller', 'aerosols', '.', 'It', 'important', 'practice', 'respiratory', 'etiquette', ',', 'example', 'coughing', 'flexed', 'elbow', ',', 'stay', 'home', 'self-isolate', 'recover', 'feel', 'unwell', '.']\n"
     ]
    }
   ],
   "source": [
    "listwords=[]\n",
    "for words in tokens:\n",
    "    if words not in stop_words:\n",
    "        listwords.append(words)\n",
    "print(listwords)"
   ]
  },
  {
   "cell_type": "code",
   "execution_count": 29,
   "id": "f0221635-2534-4a00-bd25-8e8bd137133c",
   "metadata": {
    "tags": []
   },
   "outputs": [],
   "source": [
    "ps = PorterStemmer()"
   ]
  },
  {
   "cell_type": "code",
   "execution_count": 30,
   "id": "537a54d2-ed47-4882-8289-a21e68f8ffe4",
   "metadata": {
    "tags": []
   },
   "outputs": [
    {
     "name": "stdout",
     "output_type": "stream",
     "text": [
      "[['Coronavirus', 'coronaviru'], ['disease', 'diseas'], ['(', '('], ['COVID-19', 'covid-19'], [')', ')'], ['infectious', 'infecti'], ['disease', 'diseas'], ['caused', 'caus'], ['SARS-CoV-2', 'sars-cov-2'], ['virus', 'viru'], ['.', '.'], ['Most', 'most'], ['people', 'peopl'], ['infected', 'infect'], ['virus', 'viru'], ['experience', 'experi'], ['mild', 'mild'], ['moderate', 'moder'], ['respiratory', 'respiratori'], ['illness', 'ill'], ['recover', 'recov'], ['without', 'without'], ['requiring', 'requir'], ['special', 'special'], ['treatment', 'treatment'], ['.', '.'], ['However', 'howev'], [',', ','], ['become', 'becom'], ['seriously', 'serious'], ['ill', 'ill'], ['require', 'requir'], ['medical', 'medic'], ['attention', 'attent'], ['.', '.'], ['Older', 'older'], ['people', 'peopl'], ['underlying', 'underli'], ['medical', 'medic'], ['conditions', 'condit'], ['like', 'like'], ['cardiovascular', 'cardiovascular'], ['disease', 'diseas'], [',', ','], ['diabetes', 'diabet'], [',', ','], ['chronic', 'chronic'], ['respiratory', 'respiratori'], ['disease', 'diseas'], [',', ','], ['cancer', 'cancer'], ['likely', 'like'], ['develop', 'develop'], ['serious', 'seriou'], ['illness', 'ill'], ['.', '.'], ['Anyone', 'anyon'], ['get', 'get'], ['sick', 'sick'], ['COVID-19', 'covid-19'], ['become', 'becom'], ['seriously', 'serious'], ['ill', 'ill'], ['die', 'die'], ['age', 'age'], ['.', '.'], ['The', 'the'], ['best', 'best'], ['way', 'way'], ['prevent', 'prevent'], ['slow', 'slow'], ['transmission', 'transmiss'], ['well', 'well'], ['informed', 'inform'], ['disease', 'diseas'], ['virus', 'viru'], ['spreads', 'spread'], ['.', '.'], ['Protect', 'protect'], ['others', 'other'], ['infection', 'infect'], ['staying', 'stay'], ['least', 'least'], ['1', '1'], ['metre', 'metr'], ['apart', 'apart'], ['others', 'other'], [',', ','], ['wearing', 'wear'], ['properly', 'properli'], ['fitted', 'fit'], ['mask', 'mask'], [',', ','], ['washing', 'wash'], ['hands', 'hand'], ['using', 'use'], ['alcohol-based', 'alcohol-bas'], ['rub', 'rub'], ['frequently', 'frequent'], ['.', '.'], ['Get', 'get'], ['vaccinated', 'vaccin'], ['’', '’'], ['turn', 'turn'], ['follow', 'follow'], ['local', 'local'], ['guidance', 'guidanc'], ['.', '.'], ['The', 'the'], ['virus', 'viru'], ['spread', 'spread'], ['infected', 'infect'], ['person', 'person'], ['’', '’'], ['mouth', 'mouth'], ['nose', 'nose'], ['small', 'small'], ['liquid', 'liquid'], ['particles', 'particl'], ['cough', 'cough'], [',', ','], ['sneeze', 'sneez'], [',', ','], ['speak', 'speak'], [',', ','], ['sing', 'sing'], ['breathe', 'breath'], ['.', '.'], ['These', 'these'], ['particles', 'particl'], ['range', 'rang'], ['larger', 'larger'], ['respiratory', 'respiratori'], ['droplets', 'droplet'], ['smaller', 'smaller'], ['aerosols', 'aerosol'], ['.', '.'], ['It', 'it'], ['important', 'import'], ['practice', 'practic'], ['respiratory', 'respiratori'], ['etiquette', 'etiquett'], [',', ','], ['example', 'exampl'], ['coughing', 'cough'], ['flexed', 'flex'], ['elbow', 'elbow'], [',', ','], ['stay', 'stay'], ['home', 'home'], ['self-isolate', 'self-isol'], ['recover', 'recov'], ['feel', 'feel'], ['unwell', 'unwel'], ['.', '.']]\n"
     ]
    }
   ],
   "source": [
    "stemlist = []\n",
    "for words in listwords:\n",
    "    stemlist.append([words, ps.stem(words)])\n",
    "print(stemlist)"
   ]
  },
  {
   "cell_type": "code",
   "execution_count": 31,
   "id": "fabca2dc-fec4-4103-9641-c2a931dcaefe",
   "metadata": {
    "tags": []
   },
   "outputs": [],
   "source": [
    "wl = WordNetLemmatizer()"
   ]
  },
  {
   "cell_type": "code",
   "execution_count": 32,
   "id": "3b3ea2a6-7115-414b-9e1a-90f5ba5e32fe",
   "metadata": {
    "tags": []
   },
   "outputs": [
    {
     "name": "stdout",
     "output_type": "stream",
     "text": [
      "[['Coronavirus', 'Coronavirus'], ['disease', 'disease'], ['(', '('], ['COVID-19', 'COVID-19'], [')', ')'], ['infectious', 'infectious'], ['disease', 'disease'], ['caused', 'caused'], ['SARS-CoV-2', 'SARS-CoV-2'], ['virus', 'virus'], ['.', '.'], ['Most', 'Most'], ['people', 'people'], ['infected', 'infected'], ['virus', 'virus'], ['experience', 'experience'], ['mild', 'mild'], ['moderate', 'moderate'], ['respiratory', 'respiratory'], ['illness', 'illness'], ['recover', 'recover'], ['without', 'without'], ['requiring', 'requiring'], ['special', 'special'], ['treatment', 'treatment'], ['.', '.'], ['However', 'However'], [',', ','], ['become', 'become'], ['seriously', 'seriously'], ['ill', 'ill'], ['require', 'require'], ['medical', 'medical'], ['attention', 'attention'], ['.', '.'], ['Older', 'Older'], ['people', 'people'], ['underlying', 'underlying'], ['medical', 'medical'], ['conditions', 'condition'], ['like', 'like'], ['cardiovascular', 'cardiovascular'], ['disease', 'disease'], [',', ','], ['diabetes', 'diabetes'], [',', ','], ['chronic', 'chronic'], ['respiratory', 'respiratory'], ['disease', 'disease'], [',', ','], ['cancer', 'cancer'], ['likely', 'likely'], ['develop', 'develop'], ['serious', 'serious'], ['illness', 'illness'], ['.', '.'], ['Anyone', 'Anyone'], ['get', 'get'], ['sick', 'sick'], ['COVID-19', 'COVID-19'], ['become', 'become'], ['seriously', 'seriously'], ['ill', 'ill'], ['die', 'die'], ['age', 'age'], ['.', '.'], ['The', 'The'], ['best', 'best'], ['way', 'way'], ['prevent', 'prevent'], ['slow', 'slow'], ['transmission', 'transmission'], ['well', 'well'], ['informed', 'informed'], ['disease', 'disease'], ['virus', 'virus'], ['spreads', 'spread'], ['.', '.'], ['Protect', 'Protect'], ['others', 'others'], ['infection', 'infection'], ['staying', 'staying'], ['least', 'least'], ['1', '1'], ['metre', 'metre'], ['apart', 'apart'], ['others', 'others'], [',', ','], ['wearing', 'wearing'], ['properly', 'properly'], ['fitted', 'fitted'], ['mask', 'mask'], [',', ','], ['washing', 'washing'], ['hands', 'hand'], ['using', 'using'], ['alcohol-based', 'alcohol-based'], ['rub', 'rub'], ['frequently', 'frequently'], ['.', '.'], ['Get', 'Get'], ['vaccinated', 'vaccinated'], ['’', '’'], ['turn', 'turn'], ['follow', 'follow'], ['local', 'local'], ['guidance', 'guidance'], ['.', '.'], ['The', 'The'], ['virus', 'virus'], ['spread', 'spread'], ['infected', 'infected'], ['person', 'person'], ['’', '’'], ['mouth', 'mouth'], ['nose', 'nose'], ['small', 'small'], ['liquid', 'liquid'], ['particles', 'particle'], ['cough', 'cough'], [',', ','], ['sneeze', 'sneeze'], [',', ','], ['speak', 'speak'], [',', ','], ['sing', 'sing'], ['breathe', 'breathe'], ['.', '.'], ['These', 'These'], ['particles', 'particle'], ['range', 'range'], ['larger', 'larger'], ['respiratory', 'respiratory'], ['droplets', 'droplet'], ['smaller', 'smaller'], ['aerosols', 'aerosol'], ['.', '.'], ['It', 'It'], ['important', 'important'], ['practice', 'practice'], ['respiratory', 'respiratory'], ['etiquette', 'etiquette'], [',', ','], ['example', 'example'], ['coughing', 'coughing'], ['flexed', 'flexed'], ['elbow', 'elbow'], [',', ','], ['stay', 'stay'], ['home', 'home'], ['self-isolate', 'self-isolate'], ['recover', 'recover'], ['feel', 'feel'], ['unwell', 'unwell'], ['.', '.']]\n"
     ]
    }
   ],
   "source": [
    "lemilist = []\n",
    "for words in listwords:\n",
    "    lemilist.append([words, wl.lemmatize(words)])\n",
    "print(lemilist)"
   ]
  },
  {
   "cell_type": "code",
   "execution_count": 33,
   "id": "591776e3-3fbe-45eb-95b8-bff2b5d6d0b8",
   "metadata": {
    "tags": []
   },
   "outputs": [
    {
     "name": "stdout",
     "output_type": "stream",
     "text": [
      "{'Coronavirus': 1, 'disease': 5, '(': 1, 'COVID-19': 2, ')': 1, 'infectious': 1, 'caused': 1, 'SARS-CoV-2': 1, 'virus': 4, '.': 11, 'Most': 1, 'people': 2, 'infected': 2, 'experience': 1, 'mild': 1, 'moderate': 1, 'respiratory': 4, 'illness': 2, 'recover': 2, 'without': 1, 'requiring': 1, 'special': 1, 'treatment': 1, 'However': 1, ',': 11, 'become': 2, 'seriously': 2, 'ill': 2, 'require': 1, 'medical': 2, 'attention': 1, 'Older': 1, 'underlying': 1, 'conditions': 1, 'like': 1, 'cardiovascular': 1, 'diabetes': 1, 'chronic': 1, 'cancer': 1, 'likely': 1, 'develop': 1, 'serious': 1, 'Anyone': 1, 'get': 1, 'sick': 1, 'die': 1, 'age': 1, 'The': 2, 'best': 1, 'way': 1, 'prevent': 1, 'slow': 1, 'transmission': 1, 'well': 1, 'informed': 1, 'spreads': 1, 'Protect': 1, 'others': 2, 'infection': 1, 'staying': 1, 'least': 1, '1': 1, 'metre': 1, 'apart': 1, 'wearing': 1, 'properly': 1, 'fitted': 1, 'mask': 1, 'washing': 1, 'hands': 1, 'using': 1, 'alcohol-based': 1, 'rub': 1, 'frequently': 1, 'Get': 1, 'vaccinated': 1, '’': 2, 'turn': 1, 'follow': 1, 'local': 1, 'guidance': 1, 'spread': 1, 'person': 1, 'mouth': 1, 'nose': 1, 'small': 1, 'liquid': 1, 'particles': 2, 'cough': 1, 'sneeze': 1, 'speak': 1, 'sing': 1, 'breathe': 1, 'These': 1, 'range': 1, 'larger': 1, 'droplets': 1, 'smaller': 1, 'aerosols': 1, 'It': 1, 'important': 1, 'practice': 1, 'etiquette': 1, 'example': 1, 'coughing': 1, 'flexed': 1, 'elbow': 1, 'stay': 1, 'home': 1, 'self-isolate': 1, 'feel': 1, 'unwell': 1}\n"
     ]
    }
   ],
   "source": [
    "freq = dict()\n",
    "for words in listwords:\n",
    "    if words in freq:\n",
    "        freq[words] += 1\n",
    "    else:\n",
    "        freq[words] = 1\n",
    "print(freq)"
   ]
  },
  {
   "cell_type": "code",
   "execution_count": 37,
   "id": "ec806655-b872-42b1-9b88-85aa5a100784",
   "metadata": {
    "tags": []
   },
   "outputs": [
    {
     "name": "stdout",
     "output_type": "stream",
     "text": [
      "  (0, 16)\t1.0\n",
      "  (1, 24)\t1.0\n",
      "  (3, 0)\t0.7071067811865476\n",
      "  (3, 20)\t0.7071067811865476\n",
      "  (5, 45)\t1.0\n",
      "  (6, 24)\t1.0\n",
      "  (7, 13)\t1.0\n",
      "  (8, 19)\t0.7071067811865476\n",
      "  (8, 78)\t0.7071067811865476\n",
      "  (9, 103)\t1.0\n",
      "  (11, 60)\t1.0\n",
      "  (12, 66)\t1.0\n",
      "  (13, 43)\t1.0\n",
      "  (14, 103)\t1.0\n",
      "  (15, 29)\t1.0\n",
      "  (16, 58)\t1.0\n",
      "  (17, 59)\t1.0\n",
      "  (18, 76)\t1.0\n",
      "  (19, 41)\t1.0\n",
      "  (20, 73)\t1.0\n",
      "  (21, 108)\t1.0\n",
      "  (22, 75)\t1.0\n",
      "  (23, 89)\t1.0\n",
      "  (24, 97)\t1.0\n",
      "  (26, 39)\t1.0\n",
      "  :\t:\n",
      "  (126, 10)\t1.0\n",
      "  (128, 95)\t1.0\n",
      "  (129, 65)\t1.0\n",
      "  (130, 72)\t1.0\n",
      "  (131, 49)\t1.0\n",
      "  (132, 76)\t1.0\n",
      "  (133, 25)\t1.0\n",
      "  (134, 86)\t1.0\n",
      "  (135, 1)\t1.0\n",
      "  (137, 48)\t1.0\n",
      "  (138, 42)\t1.0\n",
      "  (139, 68)\t1.0\n",
      "  (140, 76)\t1.0\n",
      "  (141, 27)\t1.0\n",
      "  (143, 28)\t1.0\n",
      "  (144, 18)\t1.0\n",
      "  (145, 32)\t1.0\n",
      "  (146, 26)\t1.0\n",
      "  (148, 92)\t1.0\n",
      "  (149, 38)\t1.0\n",
      "  (150, 47)\t0.7071067811865476\n",
      "  (150, 79)\t0.7071067811865476\n",
      "  (151, 73)\t1.0\n",
      "  (152, 30)\t1.0\n",
      "  (153, 100)\t1.0\n"
     ]
    }
   ],
   "source": [
    "tfidf = TfidfVectorizer()\n",
    "result = tfidf.fit_transform(listwords)\n",
    "print(result)"
   ]
  },
  {
   "cell_type": "code",
   "execution_count": null,
   "id": "811d9e83-5169-438a-b121-4a1ad9856427",
   "metadata": {},
   "outputs": [],
   "source": []
  }
 ],
 "metadata": {
  "kernelspec": {
   "display_name": "Python 3",
   "language": "python",
   "name": "python3"
  },
  "language_info": {
   "codemirror_mode": {
    "name": "ipython",
    "version": 3
   },
   "file_extension": ".py",
   "mimetype": "text/x-python",
   "name": "python",
   "nbconvert_exporter": "python",
   "pygments_lexer": "ipython3",
   "version": "3.8.6"
  }
 },
 "nbformat": 4,
 "nbformat_minor": 5
}
